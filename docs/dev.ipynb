{
 "cells": [
  {
   "cell_type": "code",
   "execution_count": 2,
   "metadata": {},
   "outputs": [
    {
     "ename": "ModuleNotFoundError",
     "evalue": "No module named 'twitch_game_analytics'",
     "output_type": "error",
     "traceback": [
      "\u001b[0;31m---------------------------------------------------------------------------\u001b[0m",
      "\u001b[0;31mModuleNotFoundError\u001b[0m                       Traceback (most recent call last)",
      "Cell \u001b[0;32mIn[2], line 1\u001b[0m\n\u001b[0;32m----> 1\u001b[0m \u001b[38;5;28;01mfrom\u001b[39;00m \u001b[38;5;21;01mtwitch_game_analytics\u001b[39;00m \u001b[38;5;28;01mimport\u001b[39;00m get_twitch_top_games\n",
      "\u001b[0;31mModuleNotFoundError\u001b[0m: No module named 'twitch_game_analytics'"
     ]
    }
   ],
   "source": [
    "from twitch_game_analytics.src import get_twitch_top_games"
   ]
  },
  {
   "cell_type": "code",
   "execution_count": null,
   "metadata": {},
   "outputs": [],
   "source": []
  },
  {
   "cell_type": "code",
   "execution_count": 2,
   "metadata": {},
   "outputs": [
    {
     "name": "stdout",
     "output_type": "stream",
     "text": [
      "appnope==0.1.4\n",
      "asttokens==2.4.1\n",
      "backcall==0.2.0\n",
      "certifi==2024.8.30\n",
      "charset-normalizer==3.3.2\n",
      "comm==0.2.2\n",
      "debugpy==1.8.5\n",
      "decorator==5.1.1\n",
      "executing==2.1.0\n",
      "idna==3.10\n",
      "importlib_metadata==8.5.0\n",
      "ipykernel==6.29.5\n",
      "ipython==8.12.3\n",
      "jedi==0.19.1\n",
      "jupyter_client==8.6.3\n",
      "jupyter_core==5.7.2\n",
      "matplotlib-inline==0.1.7\n",
      "nest-asyncio==1.6.0\n",
      "numpy==1.24.4\n",
      "packaging==24.1\n",
      "pandas==2.0.3\n",
      "parso==0.8.4\n",
      "pexpect==4.9.0\n",
      "pickleshare==0.7.5\n",
      "platformdirs==4.3.6\n",
      "prompt_toolkit==3.0.47\n",
      "psutil==6.0.0\n",
      "ptyprocess==0.7.0\n",
      "pure_eval==0.2.3\n",
      "Pygments==2.18.0\n",
      "python-dateutil==2.9.0.post0\n",
      "pytz==2024.2\n",
      "pyzmq==26.2.0\n",
      "requests==2.32.3\n",
      "six==1.16.0\n",
      "stack-data==0.6.3\n",
      "tornado==6.4.1\n",
      "traitlets==5.14.3\n",
      "-e git+https://github.com/Sam-analyst/twitch_game_analytics.git@150dcef1d983b5414f2dbeff2198af286f5fdbc2#egg=twitch_game_analytics\n",
      "typing_extensions==4.12.2\n",
      "tzdata==2024.1\n",
      "urllib3==2.2.3\n",
      "wcwidth==0.2.13\n",
      "zipp==3.20.2\n"
     ]
    }
   ],
   "source": [
    "! pip freeze"
   ]
  },
  {
   "cell_type": "code",
   "execution_count": 6,
   "metadata": {},
   "outputs": [
    {
     "data": {
      "text/html": [
       "<div>\n",
       "<style scoped>\n",
       "    .dataframe tbody tr th:only-of-type {\n",
       "        vertical-align: middle;\n",
       "    }\n",
       "\n",
       "    .dataframe tbody tr th {\n",
       "        vertical-align: top;\n",
       "    }\n",
       "\n",
       "    .dataframe thead th {\n",
       "        text-align: right;\n",
       "    }\n",
       "</style>\n",
       "<table border=\"1\" class=\"dataframe\">\n",
       "  <thead>\n",
       "    <tr style=\"text-align: right;\">\n",
       "      <th></th>\n",
       "      <th>id</th>\n",
       "      <th>name</th>\n",
       "      <th>box_art_url</th>\n",
       "      <th>igdb_id</th>\n",
       "    </tr>\n",
       "  </thead>\n",
       "  <tbody>\n",
       "    <tr>\n",
       "      <th>0</th>\n",
       "      <td>509658</td>\n",
       "      <td>Just Chatting</td>\n",
       "      <td>https://static-cdn.jtvnw.net/ttv-boxart/509658...</td>\n",
       "      <td></td>\n",
       "    </tr>\n",
       "    <tr>\n",
       "      <th>1</th>\n",
       "      <td>32399</td>\n",
       "      <td>Counter-Strike</td>\n",
       "      <td>https://static-cdn.jtvnw.net/ttv-boxart/32399-...</td>\n",
       "      <td></td>\n",
       "    </tr>\n",
       "    <tr>\n",
       "      <th>2</th>\n",
       "      <td>18122</td>\n",
       "      <td>World of Warcraft</td>\n",
       "      <td>https://static-cdn.jtvnw.net/ttv-boxart/18122-...</td>\n",
       "      <td>123</td>\n",
       "    </tr>\n",
       "    <tr>\n",
       "      <th>3</th>\n",
       "      <td>32982</td>\n",
       "      <td>Grand Theft Auto V</td>\n",
       "      <td>https://static-cdn.jtvnw.net/ttv-boxart/32982_...</td>\n",
       "      <td>1020</td>\n",
       "    </tr>\n",
       "    <tr>\n",
       "      <th>4</th>\n",
       "      <td>2011938005</td>\n",
       "      <td>EA Sports FC 25</td>\n",
       "      <td>https://static-cdn.jtvnw.net/ttv-boxart/201193...</td>\n",
       "      <td>308698</td>\n",
       "    </tr>\n",
       "    <tr>\n",
       "      <th>5</th>\n",
       "      <td>21779</td>\n",
       "      <td>League of Legends</td>\n",
       "      <td>https://static-cdn.jtvnw.net/ttv-boxart/21779-...</td>\n",
       "      <td>115</td>\n",
       "    </tr>\n",
       "    <tr>\n",
       "      <th>6</th>\n",
       "      <td>33214</td>\n",
       "      <td>Fortnite</td>\n",
       "      <td>https://static-cdn.jtvnw.net/ttv-boxart/33214-...</td>\n",
       "      <td>1905</td>\n",
       "    </tr>\n",
       "    <tr>\n",
       "      <th>7</th>\n",
       "      <td>66930295</td>\n",
       "      <td>Tales of the Shire</td>\n",
       "      <td>https://static-cdn.jtvnw.net/ttv-boxart/669302...</td>\n",
       "      <td>267648</td>\n",
       "    </tr>\n",
       "    <tr>\n",
       "      <th>8</th>\n",
       "      <td>516575</td>\n",
       "      <td>VALORANT</td>\n",
       "      <td>https://static-cdn.jtvnw.net/ttv-boxart/516575...</td>\n",
       "      <td>126459</td>\n",
       "    </tr>\n",
       "    <tr>\n",
       "      <th>9</th>\n",
       "      <td>1863222988</td>\n",
       "      <td>Kings League</td>\n",
       "      <td>https://static-cdn.jtvnw.net/ttv-boxart/186322...</td>\n",
       "      <td></td>\n",
       "    </tr>\n",
       "  </tbody>\n",
       "</table>\n",
       "</div>"
      ],
      "text/plain": [
       "           id                name  \\\n",
       "0      509658       Just Chatting   \n",
       "1       32399      Counter-Strike   \n",
       "2       18122   World of Warcraft   \n",
       "3       32982  Grand Theft Auto V   \n",
       "4  2011938005     EA Sports FC 25   \n",
       "5       21779   League of Legends   \n",
       "6       33214            Fortnite   \n",
       "7    66930295  Tales of the Shire   \n",
       "8      516575            VALORANT   \n",
       "9  1863222988        Kings League   \n",
       "\n",
       "                                         box_art_url igdb_id  \n",
       "0  https://static-cdn.jtvnw.net/ttv-boxart/509658...          \n",
       "1  https://static-cdn.jtvnw.net/ttv-boxart/32399-...          \n",
       "2  https://static-cdn.jtvnw.net/ttv-boxart/18122-...     123  \n",
       "3  https://static-cdn.jtvnw.net/ttv-boxart/32982_...    1020  \n",
       "4  https://static-cdn.jtvnw.net/ttv-boxart/201193...  308698  \n",
       "5  https://static-cdn.jtvnw.net/ttv-boxart/21779-...     115  \n",
       "6  https://static-cdn.jtvnw.net/ttv-boxart/33214-...    1905  \n",
       "7  https://static-cdn.jtvnw.net/ttv-boxart/669302...  267648  \n",
       "8  https://static-cdn.jtvnw.net/ttv-boxart/516575...  126459  \n",
       "9  https://static-cdn.jtvnw.net/ttv-boxart/186322...          "
      ]
     },
     "execution_count": 6,
     "metadata": {},
     "output_type": "execute_result"
    }
   ],
   "source": [
    "# getting top 10 twitch games in terms of viewers\n",
    "get_top_n_games(10)"
   ]
  },
  {
   "cell_type": "code",
   "execution_count": 7,
   "metadata": {},
   "outputs": [
    {
     "name": "stdout",
     "output_type": "stream",
     "text": [
      "reached the end - pulled back 100 pages for game_id 33214\n"
     ]
    }
   ],
   "source": [
    "# we can get approx viewers for fortnite by passing in the game id from above\n",
    "fortnite_approx_viewers = get_game_viewers(\"33214\")"
   ]
  },
  {
   "cell_type": "code",
   "execution_count": 8,
   "metadata": {},
   "outputs": [
    {
     "data": {
      "text/plain": [
       "96462.0"
      ]
     },
     "execution_count": 8,
     "metadata": {},
     "output_type": "execute_result"
    }
   ],
   "source": [
    "fortnite_approx_viewers[\"viewer_count\"].sum()"
   ]
  },
  {
   "cell_type": "code",
   "execution_count": null,
   "metadata": {},
   "outputs": [],
   "source": []
  }
 ],
 "metadata": {
  "kernelspec": {
   "display_name": "twitch_venv_two",
   "language": "python",
   "name": "python3"
  },
  "language_info": {
   "codemirror_mode": {
    "name": "ipython",
    "version": 3
   },
   "file_extension": ".py",
   "mimetype": "text/x-python",
   "name": "python",
   "nbconvert_exporter": "python",
   "pygments_lexer": "ipython3",
   "version": "3.8.2"
  }
 },
 "nbformat": 4,
 "nbformat_minor": 2
}
