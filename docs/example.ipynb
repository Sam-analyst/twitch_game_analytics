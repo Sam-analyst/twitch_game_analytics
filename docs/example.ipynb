{
 "cells": [
  {
   "cell_type": "code",
   "execution_count": 1,
   "metadata": {},
   "outputs": [
    {
     "name": "stderr",
     "output_type": "stream",
     "text": [
      "/Users/dev/Desktop/python_projects/twitch_game_analytics/venv/lib/python3.8/site-packages/urllib3/__init__.py:35: NotOpenSSLWarning: urllib3 v2 only supports OpenSSL 1.1.1+, currently the 'ssl' module is compiled with 'LibreSSL 2.8.3'. See: https://github.com/urllib3/urllib3/issues/3020\n",
      "  warnings.warn(\n"
     ]
    }
   ],
   "source": [
    "from twitch_game_analytics import get_top_n_games, get_game_viewers"
   ]
  },
  {
   "cell_type": "code",
   "execution_count": 2,
   "metadata": {},
   "outputs": [
    {
     "data": {
      "text/html": [
       "<div>\n",
       "<style scoped>\n",
       "    .dataframe tbody tr th:only-of-type {\n",
       "        vertical-align: middle;\n",
       "    }\n",
       "\n",
       "    .dataframe tbody tr th {\n",
       "        vertical-align: top;\n",
       "    }\n",
       "\n",
       "    .dataframe thead th {\n",
       "        text-align: right;\n",
       "    }\n",
       "</style>\n",
       "<table border=\"1\" class=\"dataframe\">\n",
       "  <thead>\n",
       "    <tr style=\"text-align: right;\">\n",
       "      <th></th>\n",
       "      <th>id</th>\n",
       "      <th>name</th>\n",
       "      <th>box_art_url</th>\n",
       "      <th>igdb_id</th>\n",
       "    </tr>\n",
       "  </thead>\n",
       "  <tbody>\n",
       "    <tr>\n",
       "      <th>0</th>\n",
       "      <td>509658</td>\n",
       "      <td>Just Chatting</td>\n",
       "      <td>https://static-cdn.jtvnw.net/ttv-boxart/509658...</td>\n",
       "      <td></td>\n",
       "    </tr>\n",
       "    <tr>\n",
       "      <th>1</th>\n",
       "      <td>32399</td>\n",
       "      <td>Counter-Strike</td>\n",
       "      <td>https://static-cdn.jtvnw.net/ttv-boxart/32399-...</td>\n",
       "      <td></td>\n",
       "    </tr>\n",
       "    <tr>\n",
       "      <th>2</th>\n",
       "      <td>18122</td>\n",
       "      <td>World of Warcraft</td>\n",
       "      <td>https://static-cdn.jtvnw.net/ttv-boxart/18122-...</td>\n",
       "      <td>123</td>\n",
       "    </tr>\n",
       "    <tr>\n",
       "      <th>3</th>\n",
       "      <td>2011938005</td>\n",
       "      <td>EA Sports FC 25</td>\n",
       "      <td>https://static-cdn.jtvnw.net/ttv-boxart/201193...</td>\n",
       "      <td>308698</td>\n",
       "    </tr>\n",
       "    <tr>\n",
       "      <th>4</th>\n",
       "      <td>32982</td>\n",
       "      <td>Grand Theft Auto V</td>\n",
       "      <td>https://static-cdn.jtvnw.net/ttv-boxart/32982_...</td>\n",
       "      <td>1020</td>\n",
       "    </tr>\n",
       "    <tr>\n",
       "      <th>5</th>\n",
       "      <td>21779</td>\n",
       "      <td>League of Legends</td>\n",
       "      <td>https://static-cdn.jtvnw.net/ttv-boxart/21779-...</td>\n",
       "      <td>115</td>\n",
       "    </tr>\n",
       "    <tr>\n",
       "      <th>6</th>\n",
       "      <td>33214</td>\n",
       "      <td>Fortnite</td>\n",
       "      <td>https://static-cdn.jtvnw.net/ttv-boxart/33214-...</td>\n",
       "      <td>1905</td>\n",
       "    </tr>\n",
       "    <tr>\n",
       "      <th>7</th>\n",
       "      <td>516575</td>\n",
       "      <td>VALORANT</td>\n",
       "      <td>https://static-cdn.jtvnw.net/ttv-boxart/516575...</td>\n",
       "      <td>126459</td>\n",
       "    </tr>\n",
       "    <tr>\n",
       "      <th>8</th>\n",
       "      <td>29595</td>\n",
       "      <td>Dota 2</td>\n",
       "      <td>https://static-cdn.jtvnw.net/ttv-boxart/29595-...</td>\n",
       "      <td></td>\n",
       "    </tr>\n",
       "    <tr>\n",
       "      <th>9</th>\n",
       "      <td>27546</td>\n",
       "      <td>World of Tanks</td>\n",
       "      <td>https://static-cdn.jtvnw.net/ttv-boxart/27546-...</td>\n",
       "      <td>1184</td>\n",
       "    </tr>\n",
       "  </tbody>\n",
       "</table>\n",
       "</div>"
      ],
      "text/plain": [
       "           id                name  \\\n",
       "0      509658       Just Chatting   \n",
       "1       32399      Counter-Strike   \n",
       "2       18122   World of Warcraft   \n",
       "3  2011938005     EA Sports FC 25   \n",
       "4       32982  Grand Theft Auto V   \n",
       "5       21779   League of Legends   \n",
       "6       33214            Fortnite   \n",
       "7      516575            VALORANT   \n",
       "8       29595              Dota 2   \n",
       "9       27546      World of Tanks   \n",
       "\n",
       "                                         box_art_url igdb_id  \n",
       "0  https://static-cdn.jtvnw.net/ttv-boxart/509658...          \n",
       "1  https://static-cdn.jtvnw.net/ttv-boxart/32399-...          \n",
       "2  https://static-cdn.jtvnw.net/ttv-boxart/18122-...     123  \n",
       "3  https://static-cdn.jtvnw.net/ttv-boxart/201193...  308698  \n",
       "4  https://static-cdn.jtvnw.net/ttv-boxart/32982_...    1020  \n",
       "5  https://static-cdn.jtvnw.net/ttv-boxart/21779-...     115  \n",
       "6  https://static-cdn.jtvnw.net/ttv-boxart/33214-...    1905  \n",
       "7  https://static-cdn.jtvnw.net/ttv-boxart/516575...  126459  \n",
       "8  https://static-cdn.jtvnw.net/ttv-boxart/29595-...          \n",
       "9  https://static-cdn.jtvnw.net/ttv-boxart/27546-...    1184  "
      ]
     },
     "execution_count": 2,
     "metadata": {},
     "output_type": "execute_result"
    }
   ],
   "source": [
    "# getting top 10 twitch games in terms of viewers\n",
    "get_top_n_games(10)"
   ]
  },
  {
   "cell_type": "code",
   "execution_count": 3,
   "metadata": {},
   "outputs": [
    {
     "name": "stdout",
     "output_type": "stream",
     "text": [
      "reached the end - pulled back 102 pages for game_id 33214\n"
     ]
    }
   ],
   "source": [
    "# we can get approx viewers for fortnite by passing in the game id from above\n",
    "fortnite_approx_viewers = get_game_viewers(\"33214\")"
   ]
  },
  {
   "cell_type": "code",
   "execution_count": 4,
   "metadata": {},
   "outputs": [
    {
     "data": {
      "text/plain": [
       "141117.0"
      ]
     },
     "execution_count": 4,
     "metadata": {},
     "output_type": "execute_result"
    }
   ],
   "source": [
    "fortnite_approx_viewers[\"viewer_count\"].sum()"
   ]
  }
 ],
 "metadata": {
  "kernelspec": {
   "display_name": "twitch_venv_two",
   "language": "python",
   "name": "python3"
  },
  "language_info": {
   "codemirror_mode": {
    "name": "ipython",
    "version": 3
   },
   "file_extension": ".py",
   "mimetype": "text/x-python",
   "name": "python",
   "nbconvert_exporter": "python",
   "pygments_lexer": "ipython3",
   "version": "3.8.2"
  }
 },
 "nbformat": 4,
 "nbformat_minor": 2
}
