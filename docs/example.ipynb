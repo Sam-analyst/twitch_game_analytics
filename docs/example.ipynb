{
 "cells": [
  {
   "attachments": {},
   "cell_type": "markdown",
   "metadata": {},
   "source": [
    "### Example Notebook"
   ]
  },
  {
   "attachments": {},
   "cell_type": "markdown",
   "metadata": {},
   "source": [
    "#### This notebook contains a quick tutorial on how to pull twitch data using this repo"
   ]
  },
  {
   "attachments": {},
   "cell_type": "markdown",
   "metadata": {},
   "source": [
    "Before proceeding, you'll need to set two environment variables. These two environment variables are `TWITCH_CLIENT_ID` and `TWITCH_ACCESS_TOKEN`. The code will automatically look for these variables when authenticating to the Twitch API. Check out the README for more details."
   ]
  },
  {
   "cell_type": "code",
   "execution_count": 8,
   "metadata": {},
   "outputs": [],
   "source": [
    "from twitch_game_analytics import get_twitch_games_and_streams"
   ]
  },
  {
   "cell_type": "code",
   "execution_count": 9,
   "metadata": {},
   "outputs": [
    {
     "name": "stdout",
     "output_type": "stream",
     "text": [
      "reached the end - pulled back 51 pages\n",
      "run_sample set to True. Pulling data for 1 game\n",
      "reached the end - pulled back 2 pages\n"
     ]
    }
   ],
   "source": [
    "# we'll run get_twitch_games_and_streams with run_sample = True\n",
    "# the result is a dictionary of pandas dataframes\n",
    "dfs = get_twitch_games_and_streams(run_sample=True)"
   ]
  },
  {
   "cell_type": "code",
   "execution_count": 10,
   "metadata": {},
   "outputs": [
    {
     "data": {
      "text/html": [
       "<div>\n",
       "<style scoped>\n",
       "    .dataframe tbody tr th:only-of-type {\n",
       "        vertical-align: middle;\n",
       "    }\n",
       "\n",
       "    .dataframe tbody tr th {\n",
       "        vertical-align: top;\n",
       "    }\n",
       "\n",
       "    .dataframe thead th {\n",
       "        text-align: right;\n",
       "    }\n",
       "</style>\n",
       "<table border=\"1\" class=\"dataframe\">\n",
       "  <thead>\n",
       "    <tr style=\"text-align: right;\">\n",
       "      <th></th>\n",
       "      <th>id</th>\n",
       "      <th>name</th>\n",
       "      <th>box_art_url</th>\n",
       "      <th>igdb_id</th>\n",
       "    </tr>\n",
       "  </thead>\n",
       "  <tbody>\n",
       "    <tr>\n",
       "      <th>0</th>\n",
       "      <td>509658</td>\n",
       "      <td>Just Chatting</td>\n",
       "      <td>https://static-cdn.jtvnw.net/ttv-boxart/509658...</td>\n",
       "      <td></td>\n",
       "    </tr>\n",
       "    <tr>\n",
       "      <th>1</th>\n",
       "      <td>32399</td>\n",
       "      <td>Counter-Strike</td>\n",
       "      <td>https://static-cdn.jtvnw.net/ttv-boxart/32399-...</td>\n",
       "      <td></td>\n",
       "    </tr>\n",
       "    <tr>\n",
       "      <th>2</th>\n",
       "      <td>32982</td>\n",
       "      <td>Grand Theft Auto V</td>\n",
       "      <td>https://static-cdn.jtvnw.net/ttv-boxart/32982_...</td>\n",
       "      <td>1020</td>\n",
       "    </tr>\n",
       "    <tr>\n",
       "      <th>3</th>\n",
       "      <td>21779</td>\n",
       "      <td>League of Legends</td>\n",
       "      <td>https://static-cdn.jtvnw.net/ttv-boxart/21779-...</td>\n",
       "      <td>115</td>\n",
       "    </tr>\n",
       "    <tr>\n",
       "      <th>4</th>\n",
       "      <td>1863222988</td>\n",
       "      <td>Kings League</td>\n",
       "      <td>https://static-cdn.jtvnw.net/ttv-boxart/186322...</td>\n",
       "      <td></td>\n",
       "    </tr>\n",
       "  </tbody>\n",
       "</table>\n",
       "</div>"
      ],
      "text/plain": [
       "           id  ... igdb_id\n",
       "0      509658  ...        \n",
       "1       32399  ...        \n",
       "2       32982  ...    1020\n",
       "3       21779  ...     115\n",
       "4  1863222988  ...        \n",
       "\n",
       "[5 rows x 4 columns]"
      ]
     },
     "execution_count": 10,
     "metadata": {},
     "output_type": "execute_result"
    }
   ],
   "source": [
    "# the first dataframe is the games_df table\n",
    "# the \"id\" field, which is Twitch's unique identifier for each game\n",
    "# is used in the code logic to pull streamer data for each game\n",
    "\n",
    "# check out this link for more details\n",
    "# https://dev.twitch.tv/docs/api/reference/#get-top-games\n",
    "\n",
    "dfs[\"games_df\"].head(5)"
   ]
  },
  {
   "cell_type": "code",
   "execution_count": 11,
   "metadata": {},
   "outputs": [
    {
     "data": {
      "text/html": [
       "<div>\n",
       "<style scoped>\n",
       "    .dataframe tbody tr th:only-of-type {\n",
       "        vertical-align: middle;\n",
       "    }\n",
       "\n",
       "    .dataframe tbody tr th {\n",
       "        vertical-align: top;\n",
       "    }\n",
       "\n",
       "    .dataframe thead th {\n",
       "        text-align: right;\n",
       "    }\n",
       "</style>\n",
       "<table border=\"1\" class=\"dataframe\">\n",
       "  <thead>\n",
       "    <tr style=\"text-align: right;\">\n",
       "      <th></th>\n",
       "      <th>id</th>\n",
       "      <th>user_id</th>\n",
       "      <th>user_login</th>\n",
       "      <th>user_name</th>\n",
       "      <th>game_id</th>\n",
       "      <th>game_name</th>\n",
       "      <th>type</th>\n",
       "      <th>title</th>\n",
       "      <th>viewer_count</th>\n",
       "      <th>started_at</th>\n",
       "      <th>language</th>\n",
       "      <th>thumbnail_url</th>\n",
       "      <th>tag_ids</th>\n",
       "      <th>tags</th>\n",
       "      <th>is_mature</th>\n",
       "    </tr>\n",
       "  </thead>\n",
       "  <tbody>\n",
       "    <tr>\n",
       "      <th>0</th>\n",
       "      <td>319276800889</td>\n",
       "      <td>507148249</td>\n",
       "      <td>toxi22</td>\n",
       "      <td>toxi22</td>\n",
       "      <td>30391</td>\n",
       "      <td>Christine</td>\n",
       "      <td>live</td>\n",
       "      <td>Christian Live</td>\n",
       "      <td>1</td>\n",
       "      <td>2025-04-25T18:09:19Z</td>\n",
       "      <td>other</td>\n",
       "      <td>https://static-cdn.jtvnw.net/previews-ttv/live...</td>\n",
       "      <td>[]</td>\n",
       "      <td>[Языкдругой, Christian, Worship, Glory]</td>\n",
       "      <td>False</td>\n",
       "    </tr>\n",
       "  </tbody>\n",
       "</table>\n",
       "</div>"
      ],
      "text/plain": [
       "             id    user_id  ...                                     tags is_mature\n",
       "0  319276800889  507148249  ...  [Языкдругой, Christian, Worship, Glory]     False\n",
       "\n",
       "[1 rows x 15 columns]"
      ]
     },
     "execution_count": 11,
     "metadata": {},
     "output_type": "execute_result"
    }
   ],
   "source": [
    "# the streams_df is the more useful table as it shows viewers for each streamer\n",
    "# along with other useful information regarding the stream\n",
    "# beware that this table may contain duplicates\n",
    "\n",
    "# check out this link for more details\n",
    "# https://dev.twitch.tv/docs/api/reference/#get-streams\n",
    "\n",
    "dfs[\"streams_df\"]"
   ]
  }
 ],
 "metadata": {
  "kernelspec": {
   "display_name": ".venv",
   "language": "python",
   "name": "python3"
  },
  "language_info": {
   "codemirror_mode": {
    "name": "ipython",
    "version": 3
   },
   "file_extension": ".py",
   "mimetype": "text/x-python",
   "name": "python",
   "nbconvert_exporter": "python",
   "pygments_lexer": "ipython3",
   "version": "3.12.3"
  },
  "vscode": {
   "interpreter": {
    "hash": "3784c5cb9c6169a9c58b614704c2a6e459180254e6eddedd513b41540cbf89f1"
   }
  }
 },
 "nbformat": 4,
 "nbformat_minor": 2
}
